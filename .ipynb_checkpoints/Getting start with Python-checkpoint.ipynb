{
 "cells": [
  {
   "cell_type": "markdown",
   "id": "45583385",
   "metadata": {},
   "source": [
    "# GETTING START WITH PYTHON\n"
   ]
  },
  {
   "cell_type": "markdown",
   "id": "1d2e2c5c",
   "metadata": {},
   "source": [
    "#### Variable\n",
    "- The variable is container who can hold the value and perform operation\n",
    "+ We cann't start with number, space.\n",
    "+ we cann't seperate variable name by space,insted of space we can use underscore\n",
    "+ We cann't use speacial charcter <kbd> #@$%^&* </kbd>"
   ]
  },
  {
   "cell_type": "code",
   "execution_count": 14,
   "id": "c0dbfcb0",
   "metadata": {},
   "outputs": [
    {
     "name": "stdout",
     "output_type": "stream",
     "text": [
      "Admin\n",
      "<class 'str'>\n",
      "Admin#123\n",
      "<class 'str'>\n",
      "12323\n",
      "<class 'int'>\n"
     ]
    }
   ],
   "source": [
    "user_name = \"Admin\"\n",
    "Password = \"Admin#123\"\n",
    "Capcha = 12323\n",
    "print(user_name,type(user_name),Password,type(Password),Capcha,type(Capcha),sep=\"\\n\")"
   ]
  },
  {
   "cell_type": "markdown",
   "id": "9c85c2ba",
   "metadata": {},
   "source": [
    "**We Have two type of varible case writting**\n",
    "\n",
    "**1. Snake Case Writting**\n",
    "\n",
    "\n",
    "usERnaME = 'Admin'\n",
    "\n",
    "**2. Camel Case Writting**\n",
    "\n",
    "usERNAme = 'Admin'\n"
   ]
  },
  {
   "cell_type": "markdown",
   "id": "6ee2f194",
   "metadata": {},
   "source": [
    "### Indexing and Slicing..!\n",
    "\n",
    "-->> D E V E N D R A\n",
    "\n",
    "-->> 0 1 2 3 4 5 6 7\n",
    "\n",
    "    [start:end:interval]\n",
    "\n"
   ]
  },
  {
   "cell_type": "code",
   "execution_count": 5,
   "id": "7b419e20",
   "metadata": {},
   "outputs": [
    {
     "name": "stdout",
     "output_type": "stream",
     "text": [
      "D VEN EE ARDNEVED\n"
     ]
    }
   ],
   "source": [
    "user_name = \"DEVENDRA\"\n",
    "print(user_name[0],user_name[2:5],user_name[1:4:2],user_name[::-1])"
   ]
  },
  {
   "cell_type": "code",
   "execution_count": 15,
   "id": "4c812a54",
   "metadata": {},
   "outputs": [
    {
     "data": {
      "text/plain": [
       "' A R D N  E V E D '"
      ]
     },
     "execution_count": 15,
     "metadata": {},
     "output_type": "execute_result"
    }
   ],
   "source": [
    "user_name = \" D E V E  N D R A \"\n",
    "user_name[5]\n",
    "user_name[::-1]"
   ]
  },
  {
   "cell_type": "code",
   "execution_count": 9,
   "id": "d8cd54da",
   "metadata": {},
   "outputs": [],
   "source": [
    "# We cann't use indexing for int \n",
    "# mobile_number = 86888838829\n",
    "# mobile_number[1]"
   ]
  },
  {
   "cell_type": "code",
   "execution_count": 14,
   "id": "3515b365",
   "metadata": {},
   "outputs": [
    {
     "name": "stdout",
     "output_type": "stream",
     "text": [
      "_Devendra_\n"
     ]
    }
   ],
   "source": [
    "print('_Devendra_')"
   ]
  },
  {
   "cell_type": "markdown",
   "id": "2f577c15",
   "metadata": {},
   "source": [
    "#### Comment\n",
    "\n",
    "\n",
    " + Comment is not excutable thing in code which is use for readability of code\n",
    " + To comment use shorcut <kbd> ctr + / </kbd> \n",
    " + For single line comment use <kbd> # </kbd>or <kbd> ctr + / </kbd>\n",
    " + For multiline comment use <kbd> ''' write comment here  ''' </kbd>\n",
    " + Above technique work in code cell \n",
    "\n",
    "+ In Markdown cell <kbd> ctrl + / </kbd> or <kbd> <!-- --> </kbd> use for hide the comment"
   ]
  },
  {
   "cell_type": "code",
   "execution_count": 1,
   "id": "1d4d6b58",
   "metadata": {},
   "outputs": [
    {
     "data": {
      "text/plain": [
       "'\\n  This is multiline comment \\n  \\n'"
      ]
     },
     "execution_count": 1,
     "metadata": {},
     "output_type": "execute_result"
    }
   ],
   "source": [
    "# Hello Guys this is single line comment\n",
    "\"\"\"\n",
    "  This is multiline comment \n",
    "  \n",
    "\"\"\""
   ]
  },
  {
   "cell_type": "markdown",
   "id": "7ef73ad9",
   "metadata": {},
   "source": [
    "#### 1. Print Function"
   ]
  },
  {
   "cell_type": "code",
   "execution_count": 1,
   "id": "27c3bc42",
   "metadata": {},
   "outputs": [
    {
     "name": "stdout",
     "output_type": "stream",
     "text": [
      "Hello, Good Moring\n",
      "We good to go 2\n"
     ]
    }
   ],
   "source": [
    "print(\"Hello, Good Moring\", \"We good to go\",sep=\"\\n\",end=\" \")\n",
    "print(2)"
   ]
  },
  {
   "cell_type": "markdown",
   "id": "2d851095",
   "metadata": {},
   "source": [
    "#### Raw Row\n",
    "\n",
    "+ If you add <kbd> r </kbd> or set the print output to raw, the escape sequence does not make impacted with the output"
   ]
  },
  {
   "cell_type": "code",
   "execution_count": 42,
   "id": "60e6c4b4",
   "metadata": {},
   "outputs": [
    {
     "name": "stdout",
     "output_type": "stream",
     "text": [
      "B\tA\n",
      "B\\bA\n"
     ]
    }
   ],
   "source": [
    "# Before to set raw row\n",
    "print(\"B\\tA\")\n",
    "\n",
    "# After setting the row is raw\n",
    "print(r\"B\\bA\")\n"
   ]
  },
  {
   "cell_type": "markdown",
   "id": "1fb17456",
   "metadata": {},
   "source": [
    "#### Fast String"
   ]
  },
  {
   "cell_type": "code",
   "execution_count": 13,
   "id": "79b0f5c5",
   "metadata": {},
   "outputs": [
    {
     "name": "stdout",
     "output_type": "stream",
     "text": [
      "The value of a is {a}\n",
      "The value of a is 10\n",
      "The value of a is {a}\n"
     ]
    }
   ],
   "source": [
    "a = 10\n",
    "print('The value of a is {a}',f'The value of a is {a}',r'The value of a is {a}',sep=\"\\n\")b"
   ]
  },
  {
   "cell_type": "markdown",
   "id": "9c71ee55",
   "metadata": {},
   "source": [
    "#### Format"
   ]
  },
  {
   "cell_type": "code",
   "execution_count": 92,
   "id": "a1497404",
   "metadata": {},
   "outputs": [
    {
     "name": "stdout",
     "output_type": "stream",
     "text": [
      "10\n"
     ]
    }
   ],
   "source": [
    "print(\"{}\".format(a))"
   ]
  },
  {
   "cell_type": "markdown",
   "id": "5cf84a4f",
   "metadata": {},
   "source": [
    "#### 2. Escape Sequence\n",
    "\n",
    "+ we can't use double quote inside double quote.\n",
    "+ we can't use single quote inside single quote.\n",
    "\n",
    "    + Single quote        --> \\'\n",
    "    + Single Double quote --> \\\"\n",
    "    + Single backslash    --> \\\\\n",
    "    + next line           --> \\n\n",
    "    + tab                 --> \\t\n",
    "    + backspace           --> \\b\n",
    "\n",
    "Now with the help of escape sequence we can write single quote inside single quote and double inside double quote."
   ]
  },
  {
   "cell_type": "code",
   "execution_count": 18,
   "id": "38d7156e",
   "metadata": {},
   "outputs": [
    {
     "name": "stdout",
     "output_type": "stream",
     "text": [
      "'\t\"\t\\\t\n",
      " New Line\t\ba "
     ]
    }
   ],
   "source": [
    "print('\\'',\"\\\"\",\"\\\\\",\"\\n New Line\",\"\\ba\",sep=\"\\t\",end=\" \")"
   ]
  },
  {
   "cell_type": "markdown",
   "id": "4bdbca6c",
   "metadata": {},
   "source": [
    "#### 1. Data Types\n",
    "\n",
    "+ There are 5 Type of Primitive Data Types in Python\n",
    "\n",
    "1. String\n",
    "2. int\n",
    "3. Float\n",
    "4. Bool\n",
    "5. None\n",
    "\n",
    "\n",
    "use can use above data type as function to convert one data type to another\n"
   ]
  },
  {
   "cell_type": "code",
   "execution_count": 20,
   "id": "0322fdee",
   "metadata": {},
   "outputs": [
    {
     "name": "stdout",
     "output_type": "stream",
     "text": [
      "1\n",
      "Devendra\n",
      "True\n",
      "False\n",
      "0\n",
      "<class 'bool'>\n",
      "0.13\n",
      "5\n",
      "<class 'int'>\n"
     ]
    }
   ],
   "source": [
    "# Data Types\n",
    "\n",
    "# integer\n",
    "a=1\n",
    "print(a)\n",
    "\n",
    "\n",
    "# String\n",
    "a= \"Devendra\"\n",
    "print(a)\n",
    "\n",
    "\n",
    "# Boolean\n",
    "a = True\n",
    "print(a)\n",
    "b = False\n",
    "print(b)\n",
    "print(int(b))\n",
    "print(type(b))\n",
    "\n",
    "# Float\n",
    "a = 0.13\n",
    "print(a)\n",
    "\n",
    "# None\n",
    "a = None\n",
    "a = 5\n",
    "print(a)\n",
    "print(type(a))"
   ]
  },
  {
   "cell_type": "code",
   "execution_count": 43,
   "id": "6762ad64",
   "metadata": {},
   "outputs": [
    {
     "name": "stdout",
     "output_type": "stream",
     "text": [
      "1.0\n",
      "1.0 <class 'str'> <class 'float'>\n"
     ]
    }
   ],
   "source": [
    "\n",
    "b = True\n",
    "b=float(b)\n",
    "type(b)\n",
    "print(b)\n",
    "d=str(b)\n",
    "print(d,type(d),type(b))"
   ]
  },
  {
   "cell_type": "code",
   "execution_count": 36,
   "id": "eacbddb3",
   "metadata": {},
   "outputs": [
    {
     "data": {
      "text/plain": [
       "'None'"
      ]
     },
     "execution_count": 36,
     "metadata": {},
     "output_type": "execute_result"
    }
   ],
   "source": [
    "a = None\n",
    "a = str(a)\n",
    "a"
   ]
  },
  {
   "cell_type": "markdown",
   "id": "6f9619d1",
   "metadata": {},
   "source": [
    "#### String Operation\n",
    "\n",
    "string indexing always start with 0\n",
    "\"ACCOONA GLOBAL\"\n",
    " [01234567891]\n",
    "\n",
    "**Methods use to perform string operation**\n",
    "1. find --> Find index of pass argument\n",
    "2. upper --> convert into upper case\n",
    "3. lower --> convert into lower case\n",
    "4. Capitalise --> First chacter of sentence convert to capital\n",
    "5. title --> convert into proper case\n",
    "6. count --> give the count of pass argument\n",
    "7. Index --> give the index number of passing argument\n",
    "8. format -->\n",
    "9. formatmap -->\n",
    "10. replace --> Replace existing text by passing argument\n",
    "11. split --> spliting the sentence by pass argument & give you list\n",
    "12. strip --> trim\n",
    "13. casefold --> convert into lower case\n",
    "14. center -->\n",
    "15. Encode -->\n",
    "16. Decode =->\n",
    " \n",
    "\n",
    "\n",
    "\n"
   ]
  },
  {
   "cell_type": "code",
   "execution_count": 88,
   "id": "889a9216",
   "metadata": {},
   "outputs": [
    {
     "name": "stdout",
     "output_type": "stream",
     "text": [
      "8\n",
      "14\n",
      "ACCOONA GLOBAL accoona global Accoona global Accoona Global\n",
      "2\n",
      "0\n",
      "accoona global\n",
      "Gccoona global\n",
      "['accoona', 'global']\n",
      "accoona global\n",
      "accoona global\n"
     ]
    }
   ],
   "source": [
    "company_name = \"Accoona Global\"\n",
    "print(company_name.find(\"G\"))\n",
    "print(len(Company_Name))\n",
    "company_name = company_name.lower()\n",
    "print(company_name.upper(),company_name.lower(),company_name.capitalize(), company_name.title())\n",
    "\n",
    "print(company_name.count('c'))\n",
    "print(company_name.index('a'))\n",
    "print(company_name.format())\n",
    "\n",
    "print(company_name.replace('acco','Gcco'))\n",
    "\n",
    "print(company_name.split(' '))\n",
    "print(company_name.strip(\"q\"))\n",
    "\n",
    "print(company_name.center(2))"
   ]
  },
  {
   "cell_type": "code",
   "execution_count": 89,
   "id": "ab4ba2bd",
   "metadata": {},
   "outputs": [
    {
     "name": "stdout",
     "output_type": "stream",
     "text": [
      "Hello accoona accoona acs enginnering\n"
     ]
    }
   ],
   "source": [
    "print(\"  Hello  \".strip(),\"ACCOoNA\".casefold(),\"accoona\".casefold(),\"Acs Enginnering\".casefold())"
   ]
  },
  {
   "cell_type": "code",
   "execution_count": 102,
   "id": "5610913c",
   "metadata": {},
   "outputs": [
    {
     "name": "stdout",
     "output_type": "stream",
     "text": [
      "accoona Global\n",
      "accoona Global\n"
     ]
    }
   ],
   "source": [
    "# String IS immuatble - We cann't edit string directly\n",
    "print(Company_Name.replace(\"Accoona\",'accoona'))\n",
    "print(Company_Name) # This not replace in original string \n",
    "\n",
    "\n",
    "# we can do it overwritting on it\n",
    "Company_Name = Company_Name.replace(\"Accoona\",'accoona')\n"
   ]
  },
  {
   "cell_type": "code",
   "execution_count": 115,
   "id": "d90af057",
   "metadata": {
    "scrolled": true
   },
   "outputs": [
    {
     "name": "stdout",
     "output_type": "stream",
     "text": [
      "Please enter the two number2\n",
      "plese enter anoter number3\n",
      "2 3 23 5\n"
     ]
    }
   ],
   "source": [
    "# Input from the user\n",
    "a = input(\"Please enter the two number\")\n",
    "b = input(\"plese enter anoter number\")\n",
    "print(a,b,a+b,int(a)+int(b))"
   ]
  },
  {
   "cell_type": "code",
   "execution_count": 17,
   "id": "f93281ab",
   "metadata": {},
   "outputs": [
    {
     "name": "stdout",
     "output_type": "stream",
     "text": [
      "Please enter the two number:2 3\n",
      "2 3\n"
     ]
    }
   ],
   "source": [
    "a,b = input('Please enter the two number:').split(\" \")\n",
    "print(a,b)"
   ]
  },
  {
   "cell_type": "code",
   "execution_count": 19,
   "id": "80ad0fe2",
   "metadata": {},
   "outputs": [
    {
     "name": "stdout",
     "output_type": "stream",
     "text": [
      "2.5\n"
     ]
    }
   ],
   "source": [
    "avg = (int(a)+int(b))/2\n",
    "print(avg)"
   ]
  },
  {
   "cell_type": "code",
   "execution_count": 111,
   "id": "be283354",
   "metadata": {},
   "outputs": [
    {
     "name": "stdout",
     "output_type": "stream",
     "text": [
      "Accoona Global Pune\n",
      "Accoona Global Pune 411014\n"
     ]
    }
   ],
   "source": [
    "## String Concatenation\n",
    "Company_Name = \"Accoona Global\"\n",
    "Location = \"Pune\"\n",
    "\n",
    "print(Company_Name+\" \"+Location)\n",
    "\n",
    "# We can't concatenate String data type with other data types\n",
    "\n",
    "Pin_code = 411014\n",
    "\n",
    "# print(Company_Name+\" \"+Location+\" \"+ Pin_code)\n",
    "\n",
    "print(Company_Name+\" \"+Location+\" \"+str(Pin_code))"
   ]
  },
  {
   "cell_type": "markdown",
   "id": "b9fcffac",
   "metadata": {},
   "source": [
    "#### Python As a Calculator\n",
    "\n",
    "Here we cover all arthmatic operation in python\n",
    "\n",
    "+ Addition             <kbd> + </kbd>\n",
    "+ Subtraction          <kbd> - </kbd>\n",
    "+ Multiplication       <kbd> * </kbd>\n",
    "+ Division             <kbd> / </kbd>\n",
    "+ Modulus/Remainder    <kbd> % </kbd>\n",
    "+ Floor Division       <kbd> // </kbd>\n",
    "+ Power                <kbd> ** </kbd>"
   ]
  },
  {
   "cell_type": "code",
   "execution_count": 5,
   "id": "d8314b43",
   "metadata": {},
   "outputs": [
    {
     "name": "stdout",
     "output_type": "stream",
     "text": [
      "Enter any two number : 5,3\n",
      "Sum of two number :  8\n",
      "Subtraction of two number :  2\n",
      "Division of two number :  1.6666666666666667\n",
      "Multiplication of two number :  15\n",
      "Remainder of a/b  is :  2\n",
      "The floor division of a//b is 1\n",
      "The a power of b is  125\n"
     ]
    }
   ],
   "source": [
    "a,b = input(\"Enter any two number : \").split(\",\")\n",
    "c = None\n",
    "a = int(a)\n",
    "b = int(b)\n",
    "# Addition\n",
    "c = a + b\n",
    "print(\"Sum of two number : \",c)\n",
    "\n",
    "# Subtraction\n",
    "c = a - b\n",
    "print(\"Subtraction of two number : \",c)\n",
    "\n",
    "# Division\n",
    "c = a/b\n",
    "print(\"Division of two number : \",c)\n",
    "\n",
    "# Multiplication\n",
    "c = a*b\n",
    "print(\"Multiplication of two number : \",c)\n",
    "\n",
    "\n",
    "# Modulus/Remainder\n",
    "c = a%b\n",
    "print(\"Remainder of a/b  is : \",c)\n",
    "\n",
    "\n",
    "# Floor division\n",
    "c = a//b\n",
    "print(\"The floor division of a//b is\",c)\n",
    "\n",
    "\n",
    "# Power\n",
    "c = a**b\n",
    "print(\"The a power of b is \",c)\n"
   ]
  },
  {
   "cell_type": "markdown",
   "id": "9af7292b",
   "metadata": {},
   "source": [
    "#### Logical Operation\n",
    "\n",
    "- Is Equal to              <kbd> '=='   </kbd>\n",
    "- Is Not Equal to          <kbd> '!='   </kbd>\n",
    "- Is Greater then          <kbd> '>'  </kbd>\n",
    "- Is Less then             <kbd> '<'  </kbd>\n",
    "- Is Greter then equal to  <kbd> '>=' </kbd>    \n",
    "- IS Less then equal to    <kbd> '<=' </kbd>\n"
   ]
  },
  {
   "cell_type": "code",
   "execution_count": 7,
   "id": "372c5827",
   "metadata": {},
   "outputs": [
    {
     "name": "stdout",
     "output_type": "stream",
     "text": [
      "Is a equal to b  False\n",
      "Is a not equal to b  True\n",
      "is a greater then b  False\n",
      "is a less then b  True\n",
      "is a greater then equal to b  False\n",
      "is a less then equal to b  True\n"
     ]
    }
   ],
   "source": [
    "a = 3\n",
    "b = 4\n",
    "\n",
    "print('Is a equal to b ',a==b)\n",
    "print('Is a not equal to b ', a!=b)\n",
    "print('is a greater then b ', a>b)\n",
    "print('is a less then b ', a<b)\n",
    "print('is a greater then equal to b ', a>=b)\n",
    "print('is a less then equal to b ', a<=b)\n"
   ]
  },
  {
   "cell_type": "markdown",
   "id": "12ffe738",
   "metadata": {},
   "source": [
    "#### Precedence in Python \n",
    "\n",
    "for same precedence it will work from left to right\n",
    "\n",
    "+ Parentheses                             <kbd>  ()  </kbd>\n",
    "+ Exponent                                <kbd>  **  </kbd>\n",
    "+ Unary plus, Unary minus, Bitwise Not    <kbd> +x, -x, ~x </kbd>\n",
    "+ Multiplication, Division, Floor division, Modulus             <kdd>  *, /, //, % </kbd>\n",
    "+ Addition, Subtraction           <kbd> +, - </kbd>\n",
    "+ Bitwise Shift Operators         <kbd> <<, >> </kbd>\n",
    "+ Bitwise AND                     <kbd>  &  </kbd>\n",
    "+ Bitwise XOR                     <kbd>  ^  </kbd>\n",
    "+ Bitwise OR                      <kbd>  |  </kbd>\n",
    "+ Comparision, Identity, Membership Operators     <kbd> ==, !=, >, >=, <, <=, is, is not, in, not in\n",
    "+ Logical NOT                     <kbd> not </kbd>\n",
    "+ Logical AND                     <kbd> and </kbd>\n",
    "+ Logical OR                      <kbd> or  </kbd>"
   ]
  },
  {
   "cell_type": "code",
   "execution_count": 40,
   "id": "111eaac2",
   "metadata": {},
   "outputs": [
    {
     "name": "stdout",
     "output_type": "stream",
     "text": [
      "14\n",
      "1\n"
     ]
    }
   ],
   "source": [
    "a = (2*(4+3)-(3%4)+3)\n",
    "print(a)\n",
    "\n",
    "# same precendene\n",
    "\n",
    "print(2-4+3)"
   ]
  },
  {
   "cell_type": "markdown",
   "id": "fc9ebb1f",
   "metadata": {},
   "source": [
    "#### 4. Data Structure"
   ]
  },
  {
   "cell_type": "code",
   "execution_count": null,
   "id": "6277acd4",
   "metadata": {},
   "outputs": [],
   "source": []
  },
  {
   "cell_type": "code",
   "execution_count": null,
   "id": "c53032b1",
   "metadata": {},
   "outputs": [],
   "source": []
  },
  {
   "cell_type": "code",
   "execution_count": null,
   "id": "3cde5418",
   "metadata": {},
   "outputs": [],
   "source": []
  },
  {
   "cell_type": "markdown",
   "id": "01269597",
   "metadata": {},
   "source": [
    "#### 5. Function\n",
    "\n",
    "def sum(a,b):\n",
    "    c=a+c\n",
    "    return c\n",
    "    \n",
    "print(sum(2,4))\n",
    "    "
   ]
  },
  {
   "cell_type": "code",
   "execution_count": 50,
   "id": "28039d22",
   "metadata": {},
   "outputs": [
    {
     "name": "stdout",
     "output_type": "stream",
     "text": [
      "6\n",
      "7\n",
      "5\n",
      "9\n"
     ]
    },
    {
     "data": {
      "text/plain": [
       "5"
      ]
     },
     "execution_count": 50,
     "metadata": {},
     "output_type": "execute_result"
    }
   ],
   "source": [
    "# with argument with return\n",
    "def sum(a,b):\n",
    "    c=a+b\n",
    "    return c\n",
    "print(sum(2,4))\n",
    "\n",
    "d=4\n",
    "f=3\n",
    "s=sum(d,f)\n",
    "print(s)\n",
    "\n",
    "# With argument without return\n",
    "def sum(a,b):\n",
    "    print(a+b)    \n",
    "sum(2,3)\n",
    "\n",
    "\n",
    "# without argument without return\n",
    "def sum():\n",
    "    a=2\n",
    "    b=7\n",
    "    print(a+b)\n",
    "sum()\n",
    "\n",
    "# Without argument with return\n",
    "\n",
    "def sum():\n",
    "    a=4\n",
    "    b=1\n",
    "    return a+b\n",
    "sum()"
   ]
  },
  {
   "cell_type": "code",
   "execution_count": null,
   "id": "401fc603",
   "metadata": {},
   "outputs": [],
   "source": []
  },
  {
   "cell_type": "code",
   "execution_count": null,
   "id": "3c3d4af7",
   "metadata": {},
   "outputs": [],
   "source": []
  },
  {
   "cell_type": "markdown",
   "id": "4e6a9664",
   "metadata": {},
   "source": [
    "#### 6. Loop & Statement"
   ]
  },
  {
   "cell_type": "code",
   "execution_count": 53,
   "id": "55220701",
   "metadata": {},
   "outputs": [
    {
     "name": "stdout",
     "output_type": "stream",
     "text": [
      "We are in Else block with condition is not satified\n"
     ]
    }
   ],
   "source": [
    "# IF ELSE IFELSE\n",
    "\n",
    "if False == True:\n",
    "    print(\"we are in If Block with condition is satified\")\n",
    "else:\n",
    "    print(\"We are in Else block with condition is not satified\")\n"
   ]
  },
  {
   "cell_type": "code",
   "execution_count": 56,
   "id": "e546377b",
   "metadata": {},
   "outputs": [
    {
     "name": "stdout",
     "output_type": "stream",
     "text": [
      "please enter your age : 12\n",
      "oh ho!.. you cann't play this game\n"
     ]
    }
   ],
   "source": [
    "age = int(input(\"please enter your age : \"))\n",
    "if age >= 18:\n",
    "    print(\"congreats, you eligilble for voting\")\n",
    "else:\n",
    "    print(\"oh ho!.. you cann't play this game\")"
   ]
  },
  {
   "cell_type": "code",
   "execution_count": 63,
   "id": "3ba583e4",
   "metadata": {},
   "outputs": [
    {
     "name": "stdout",
     "output_type": "stream",
     "text": [
      "Please enter the number: 2\n",
      "The value of a :2.0 is even number\n"
     ]
    }
   ],
   "source": [
    "#  Odd even program\n",
    "a = float(input(\"Please enter the number: \"))\n",
    "if a==0:\n",
    "    print(\"please enter valid number\")\n",
    "else:\n",
    "    if a%2==0:\n",
    "        print(f\"The value of a :{a} is even number\")\n",
    "    else:\n",
    "        print(f\"The value of a :{a} is odd number\")"
   ]
  },
  {
   "cell_type": "code",
   "execution_count": 69,
   "id": "58ea2821",
   "metadata": {},
   "outputs": [
    {
     "name": "stdout",
     "output_type": "stream",
     "text": [
      "Please enter your age :56\n",
      "You are under 59 year old\n"
     ]
    }
   ],
   "source": [
    "# if elsif else\n",
    "age = int(input(\"Please enter your age :\"))\n",
    "if age <=5 :\n",
    "    print('You are under 5 year old')\n",
    "elif age <18 :\n",
    "    print('You are under 18 year old')\n",
    "elif age <=59 :\n",
    "    print('You are under 59 year old')\n",
    "else:\n",
    "    print(\"You are above 60+ year old \")"
   ]
  },
  {
   "cell_type": "code",
   "execution_count": 71,
   "id": "1d755621",
   "metadata": {},
   "outputs": [
    {
     "name": "stdout",
     "output_type": "stream",
     "text": [
      "Guess the number: 54\n",
      "Oh oh .. Guess smaller number\n"
     ]
    }
   ],
   "source": [
    "# Number Guessing Game\n",
    "winning_number = 34\n",
    "a = int(input(\"Guess the number: \"))\n",
    "if winning_number == a:\n",
    "    print(\"congrats..! You won the game \")\n",
    "elif winning_number > a:\n",
    "    print(\"Oh oh .. Guess bigger number\")\n",
    "else:\n",
    "    print(\"Oh oh .. Guess smaller number\")"
   ]
  },
  {
   "cell_type": "code",
   "execution_count": 78,
   "id": "c7e60cd5",
   "metadata": {},
   "outputs": [
    {
     "name": "stdout",
     "output_type": "stream",
     "text": [
      "Please enter the user-name: e\n",
      "Please enter the password: ed\n",
      "Please enter correct user id or password\n",
      "Please enter mobile numberewsw\n",
      "Please enter email addresssw\n",
      "Please enter correct email or mobile number\n",
      "Please enter mobile number 9877232322\n",
      "if block\n"
     ]
    }
   ],
   "source": [
    "# or not and logic \n",
    "user = 'admin'\n",
    "password = 'Admin@123'\n",
    "\n",
    "User = input('Please enter the user-name: ')\n",
    "key = input(\"Please enter the password: \")\n",
    "\n",
    "if user == User and key == password :\n",
    "    print('You have log in successfully')\n",
    "else:\n",
    "    print('Please enter correct user id or password')\n",
    "    \n",
    "    \n",
    "\n",
    "mobile = \"9877232322\"\n",
    "email = 'abc@gmail.com'\n",
    "\n",
    "if mobile == input(\"Please enter mobile number\") or email == input('Please enter email address'):\n",
    "    print(\"You have login in successfully\")\n",
    "else:\n",
    "    print(\"Please enter correct email or mobile number\")\n",
    "    \n",
    "\n",
    "    \n",
    "if mobile == input(\"Please enter mobile number \") :\n",
    "    print(\"if block\")\n",
    "else:\n",
    "    print('else block')\n",
    "\n"
   ]
  },
  {
   "cell_type": "code",
   "execution_count": 85,
   "id": "ee0739f7",
   "metadata": {},
   "outputs": [
    {
     "name": "stdout",
     "output_type": "stream",
     "text": [
      "Please enter value 2,3,4\n"
     ]
    }
   ],
   "source": [
    "a,b,c = input('Please enter value ').split(',')"
   ]
  },
  {
   "cell_type": "code",
   "execution_count": 89,
   "id": "a016d8eb",
   "metadata": {},
   "outputs": [
    {
     "name": "stdout",
     "output_type": "stream",
     "text": [
      "43 is greater then 23,34\n"
     ]
    }
   ],
   "source": [
    "# Find gretest number from 3 number\n",
    "\n",
    "a=23\n",
    "b=34\n",
    "c=43\n",
    "\n",
    "if a > b and a > c :\n",
    "    print(f\"{a} is greater then {b},{c}\")\n",
    "elif b > a and b > c :\n",
    "    print(f\"{b} is greater then {a},{c}\")\n",
    "else:\n",
    "    print(f'{c} is greater then {a},{b}')\n",
    "    "
   ]
  },
  {
   "cell_type": "code",
   "execution_count": null,
   "id": "e9218a6e",
   "metadata": {},
   "outputs": [],
   "source": []
  },
  {
   "cell_type": "markdown",
   "id": "e7390793",
   "metadata": {},
   "source": []
  },
  {
   "cell_type": "markdown",
   "id": "3694764b",
   "metadata": {},
   "source": [
    "#### 7. Class & Objects"
   ]
  },
  {
   "cell_type": "code",
   "execution_count": null,
   "id": "e0a06aad",
   "metadata": {},
   "outputs": [],
   "source": []
  },
  {
   "cell_type": "code",
   "execution_count": null,
   "id": "6469a5b9",
   "metadata": {},
   "outputs": [],
   "source": []
  },
  {
   "cell_type": "code",
   "execution_count": null,
   "id": "e6f4f775",
   "metadata": {},
   "outputs": [],
   "source": []
  }
 ],
 "metadata": {
  "kernelspec": {
   "display_name": "Python 3 (ipykernel)",
   "language": "python",
   "name": "python3"
  },
  "language_info": {
   "codemirror_mode": {
    "name": "ipython",
    "version": 3
   },
   "file_extension": ".py",
   "mimetype": "text/x-python",
   "name": "python",
   "nbconvert_exporter": "python",
   "pygments_lexer": "ipython3",
   "version": "3.8.12"
  }
 },
 "nbformat": 4,
 "nbformat_minor": 5
}

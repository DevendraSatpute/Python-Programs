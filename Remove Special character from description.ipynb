{
 "cells": [
  {
   "cell_type": "code",
   "execution_count": 26,
   "id": "d56d1d43",
   "metadata": {},
   "outputs": [
    {
     "name": "stderr",
     "output_type": "stream",
     "text": [
      "C:\\Users\\Accoona\\AppData\\Local\\Temp\\ipykernel_5112\\2263761320.py:5: FutureWarning: The default value of regex will change from True to False in a future version.\n",
      "  df['New_Description'] = df['description'].str.replace('[Ë,Ì,Í,Î,Ï,Ð,Ñ,[,Ò,Ó,Ô,Õ,Ö,×,Ø,Ù,Ú,Û,Ü,Ý,Þ,ß,à,á,â,ã,ä,å,æ,ç,è,é,ê,ë,ì,í,î,ï,ð,ñ,ò,ó,ô,õ,ö,÷,ø,!,\",#,$,%,&,(,),*,+,/,\\,:,;,<,=,>,?,@,^,_,`,‘,’,“,”,•,–,—,˜,ù,ú,û,ü,ý,þ,{,|,},~,,€,Ž,ƒ,…,†,‡,ˆ,‰,Š,‹,Œ,™,š,›,œ,ž,Ÿ,ÿ,¡,¢,£,¤,¥,¦,§,¨,©,ª,«,¬,®,¯,°,¼,±,²,³,´,µ,¶,·,¹,º,»,½,¾,¿,À,Á,Â,Ã,Ä,Å,Æ,Ç,È,É,Ê]',\"\",case= True)\n"
     ]
    }
   ],
   "source": [
    "def remove_special_char():\n",
    "    import pandas as pd\n",
    "    excel_file = 'Description.xlsx'\n",
    "    df = pd.read_excel(excel_file)\n",
    "    df['New_Description'] = df['description'].str.replace('[Ë,Ì,Í,Î,Ï,Ð,Ñ,[,Ò,Ó,Ô,Õ,Ö,×,Ø,Ù,Ú,Û,Ü,Ý,Þ,ß,à,á,â,ã,ä,å,æ,ç,è,é,ê,ë,ì,í,î,ï,ð,ñ,ò,ó,ô,õ,ö,÷,ø,!,\",#,$,%,&,(,),*,+,/,\\,:,;,<,=,>,?,@,^,_,`,‘,’,“,”,•,–,—,˜,ù,ú,û,ü,ý,þ,{,|,},~,,€,Ž,ƒ,…,†,‡,ˆ,‰,Š,‹,Œ,™,š,›,œ,ž,Ÿ,ÿ,¡,¢,£,¤,¥,¦,§,¨,©,ª,«,¬,®,¯,°,¼,±,²,³,´,µ,¶,·,¹,º,»,½,¾,¿,À,Á,Â,Ã,Ä,Å,Æ,Ç,È,É,Ê]',\"\",case= True)\n",
    "#     df['New_Description'] = df['description'].str.replace([Ë,Ì,Í,Î,Ï,Ð,Ñ,Ò,Ó,Ô,Õ,Ö,×,Ø,Ù,Ú,Û,Ü,Ý,Þ,ß,à,á,â,ã,ä,å,æ,ç,è,é,ê,ë,ì,í,î,ï,ð,ñ,ò,ó,ô,õ,ö,÷,ø,!,\",#,$,%,&,(,),*,+,/,\\,:,;,<,=,>,?,@,^,_,`,‘,’,“,”,•,–,—,˜,ù,ú,û,ü,ý,þ,{,|,},~,,€,Ž,ƒ,…,†,‡,ˆ,‰,Š,‹,Œ,™,š,›,œ,ž,Ÿ,ÿ,¡,¢,£,¤,¥,¦,§,¨,©,ª,«,¬,®,¯,°,¼,±,²,³,´,µ,¶,·,¹,º,»,½,¾,¿,À,Á,Â,Ã,Ä,Å,Æ,Ç,È,É,Ê],\"\",case= True)\n",
    "#     df['New_Description'] = df['description'].str.replace('[[,],]',\"\")\n",
    "#     df['New_Description'] = df['description'].str.replace('[Ë,Ì,Í,Î,Ï,Ð,[,]',\"\")\n",
    "    df.to_excel(\"output.xlsx\")\n",
    "remove_special_char()"
   ]
  },
  {
   "cell_type": "code",
   "execution_count": 43,
   "id": "a3a0467a",
   "metadata": {},
   "outputs": [
    {
     "name": "stderr",
     "output_type": "stream",
     "text": [
      "C:\\Users\\Accoona\\AppData\\Local\\Temp\\ipykernel_5112\\3887312456.py:8: FutureWarning: The default value of regex will change from True to False in a future version.\n",
      "  df['New'] = df['description'].str.replace(rep_chars,\"\")\n"
     ]
    }
   ],
   "source": [
    "def remove_special():\n",
    "    import pandas as pd\n",
    "    excel_file = (\"newproducts.xlsx\")\n",
    "    df = pd.read_excel(excel_file)\n",
    "#     df['New Description'] = df['description'].str.replace('[Ë,Ì,Í,Î,Ï,Ð,Ñ,[,Ò,Ó,Ô,Õ,Ö,×,Ø,Ù,Ú,Û,Ü,Ý,Þ,ß,à,á,â,ã,ä,å,æ,ç,è,é,ê,ë,ì,í,î,ï,ð,ñ,ò,ó,ô,õ,ö,÷,ø,!,[,#,$,%,&,(,),*,+,/,\\,:,;,<,=,>,?,@,^,_,`,‘,’,“,”,•,–,—,˜,ù,ú,û,ü,ý,þ,{,|,},~,,€,Ž,ƒ,…,†,‡,ˆ,‰,Š,‹,Œ,™,š,›,œ,ž,Ÿ,ÿ,¡,¢,£,¤,¥,¦,§,¨,©,ª,«,¬,®,¯,°,¼,±,²,³,´,µ,¶,·,¹,º,»,½,¾,¿,À,Á,Â,Ã,Ä,Å,Æ,Ç,È,É,Ê,\",\"]',\"\")\n",
    "#     df['New Description'] = df['description'].str.replace('Ë|Ì|Í|Î|Ï|Ð|Ñ|[|Ò|Ó|Ô|Õ|Ö|×|Ø|Ù|Ú|Û|Ü|Ý|Þ|ß|à|á|â|ã|ä|å|æ|ç|è|é|ê|ë|ì|í|î|ï|ð|ñ|ò|ó|ô|õ|ö|÷|ø|!|[|#|$|%|&|(|)|*|+|/|\\|:|;|<|=|>|?|@|^|_|`|‘|’|“|”|•|–|—|˜|ù|ú|û|ü|ý|þ|{|||}|~||€|Ž|ƒ|…|†|‡|ˆ|‰|Š|‹|Œ|™|š|›|œ|ž|Ÿ|ÿ|¡|¢|£|¤|¥|¦|§|¨|©|ª|«|¬|®|¯|°|¼|±|²|³|´|µ|¶|·|¹|º|»|½|¾|¿|À|Á|Â|Ã|Ä|Å|Æ|Ç|È|É|Ê|]',\"\")\n",
    "    rep_chars = 'Ë|Ì|Í|Î|Ï|Ð|Ñ|[|Ò|Ó|Ô|Õ|Ö|×|Ø|Ù|Ú|Û|Ü|Ý|Þ|ß|à|á|â|ã|ä|å|æ|ç|è|é|ê|ë|ì|í|î|ï|ð|ñ|ò|ó|ô|õ|ö|÷|ø|!|[|#|$|%|&|(|)|*|+|/|\\|:|;|<|=|>|?|@|^|_|`|‘|’|“|”|•|–|—|˜|ù|ú|û|ü|ý|þ|{|||}|~||€|Ž|ƒ|…|†|‡|ˆ|‰|Š|‹|Œ|™|š|›|œ|ž|Ÿ|ÿ|¡|¢|£|¤|¥|¦|§|¨|©|ª|«|¬|®|¯|°|¼|±|²|³|´|µ|¶|·|¹|º|»|½|¾|¿|À|Á|Â|Ã|Ä|Å|Æ|Ç|È|É|Ê|]|\"|    |  '\n",
    "    df['New'] = df['description'].str.replace(rep_chars,\"\")\n",
    "    df.to_excel('newproducts.xlsx')\n",
    "remove_special()"
   ]
  },
  {
   "cell_type": "code",
   "execution_count": 48,
   "id": "12f98050",
   "metadata": {},
   "outputs": [
    {
     "name": "stderr",
     "output_type": "stream",
     "text": [
      "C:\\Users\\Accoona\\AppData\\Local\\Temp\\ipykernel_5112\\2522342377.py:7: FutureWarning: The default value of regex will change from True to False in a future version.\n",
      "  df['new_description']= df['description'].str.replace(remove_char,\"\")\n"
     ]
    }
   ],
   "source": [
    "# , / - need to allow # : &  length less then 5000\n",
    "def description():\n",
    "    import pandas as pd\n",
    "    excel_file = ('newproducts.xlsx')\n",
    "    df = pd.read_excel(excel_file)\n",
    "    remove_char = 'Ë|Ì|Í|Î|Ï|Ð|Ñ|[|Ò|Ó|Ô|Õ|Ö|×|Ø|Ù|Ú|Û|Ü|Ý|Þ|ß|à|á|â|ã|ä|å|æ|ç|è|é|ê|ë|ì|í|î|ï|ð|ñ|ò|ó|ô|õ|ö|÷|ø|!|[|#|$|%|&|(|)|*|+|\\|:|;|<|=|>|?|@|^|_|`|‘|’|“|”|•|–|—|˜|ù|ú|û|ü|ý|þ|{|||}|~||€|Ž|ƒ|…|†|‡|ˆ|‰|Š|‹|Œ|™|š|›|œ|ž|Ÿ|ÿ|¡|¢|£|¤|¥|¦|§|¨|©|ª|«|¬|®|¯|°|¼|±|²|³|´|µ|¶|·|¹|º|»|½|¾|¿|À|Á|Â|Ã|Ä|Å|Æ|Ç|È|É|Ê|]|\"|    |  '\n",
    "    df['new_description']= df['description'].str.replace(remove_char,\"\")\n",
    "    cols = df.select_dtypes(object).columns\n",
    "    df[cols] = df[cols].apply(lambda x: x.str.strip())\n",
    "    df.to_excel('newproducts.xlsx')\n",
    "    \n",
    "description()"
   ]
  },
  {
   "cell_type": "code",
   "execution_count": null,
   "id": "f42d7549",
   "metadata": {},
   "outputs": [],
   "source": []
  },
  {
   "cell_type": "code",
   "execution_count": null,
   "id": "9fc6291d",
   "metadata": {},
   "outputs": [],
   "source": []
  }
 ],
 "metadata": {
  "kernelspec": {
   "display_name": "Python 3 (ipykernel)",
   "language": "python",
   "name": "python3"
  },
  "language_info": {
   "codemirror_mode": {
    "name": "ipython",
    "version": 3
   },
   "file_extension": ".py",
   "mimetype": "text/x-python",
   "name": "python",
   "nbconvert_exporter": "python",
   "pygments_lexer": "ipython3",
   "version": "3.8.12"
  }
 },
 "nbformat": 4,
 "nbformat_minor": 5
}

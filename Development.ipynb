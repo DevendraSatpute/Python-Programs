{
 "cells": [
  {
   "cell_type": "markdown",
   "id": "f88e0631",
   "metadata": {},
   "source": [
    "#### Remove Special charcter\n",
    "  <KBD>   df.columns = df.columns.str.replace('[#,@,&]','') </KBD>\n",
    "<kbd> df['New_Description'] = df['description'].str.replace('[Ë,Ì,Í,Î,Ï,Ð,Ñ,Ò,Ó,Ô,Õ,Ö,×,Ø,Ù,Ú,Û,Ü,Ý,Þ,ß,à,á,â,ã,ä,å,æ,ç,è,é,ê,ë,ì,í,î,ï,ð,ñ,ò,ó,ô,õ,ö,÷,ø,!,\",#,$,%,&,(,),*,+,/,\\,:,;,<,=,>,?,@,^,_,`,‘,’,“,”,•,–,—,˜,ù,ú,û,ü,ý,þ,{,|,},~,,€,Ž,ƒ,„,…,†,‡,ˆ,‰,Š,‹,Œ,™,š,›,œ,ž,Ÿ,ÿ,¡,¢,£,¤,¥,¦,§,¨,©,ª,«,¬,­,®,¯,°,¼,±,²,³,´,µ,¶,·,¸,¹,º,»,½,¾,¿,À,Á,Â,Ã,Ä,Å,Æ,Ç,È,É,Ê]',\"\")</kbd>"
   ]
  },
  {
   "cell_type": "code",
   "execution_count": null,
   "id": "54cb9203",
   "metadata": {},
   "outputs": [],
   "source": []
  }
 ],
 "metadata": {
  "kernelspec": {
   "display_name": "Python 3 (ipykernel)",
   "language": "python",
   "name": "python3"
  },
  "language_info": {
   "codemirror_mode": {
    "name": "ipython",
    "version": 3
   },
   "file_extension": ".py",
   "mimetype": "text/x-python",
   "name": "python",
   "nbconvert_exporter": "python",
   "pygments_lexer": "ipython3",
   "version": "3.8.12"
  }
 },
 "nbformat": 4,
 "nbformat_minor": 5
}
